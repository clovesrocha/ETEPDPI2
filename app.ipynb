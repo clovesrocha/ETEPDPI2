{
  "nbformat": 4,
  "nbformat_minor": 0,
  "metadata": {
    "colab": {
      "name": "app.ipynb",
      "provenance": [],
      "authorship_tag": "ABX9TyNXAGP6GkGSUTr7+ugO4Kao",
      "include_colab_link": true
    },
    "kernelspec": {
      "name": "python3",
      "display_name": "Python 3"
    },
    "language_info": {
      "name": "python"
    }
  },
  "cells": [
    {
      "cell_type": "markdown",
      "metadata": {
        "id": "view-in-github",
        "colab_type": "text"
      },
      "source": [
        "<a href=\"https://colab.research.google.com/github/clovesrocha/ETEPDPI2/blob/main/app.ipynb\" target=\"_parent\"><img src=\"https://colab.research.google.com/assets/colab-badge.svg\" alt=\"Open In Colab\"/></a>"
      ]
    },
    {
      "cell_type": "code",
      "execution_count": null,
      "metadata": {
        "id": "QbvPDZTja708"
      },
      "outputs": [],
      "source": [
        "# ETE PD\n",
        "# Prof. Cloves\n",
        "# Exemplo aula CRUD\n",
        "\n",
        "# arquivo app.py\n",
        "\n",
        "import db\n",
        "import mensagens as msg\n",
        "\n",
        "def main():\n",
        "    NOVA_TAREFA     = 1\n",
        "    CONCLUIR_TAREFA = 2\n",
        "    \n",
        "    while True:\n",
        "        msg.exibir_cabecalho()\n",
        "        msg.exibir_tarefas()\n",
        "        try:\n",
        "            # exibe as opções disponíveis\n",
        "            opcao = int(input(\"O que deseja fazer? 1 = Nova tarefa, 2 = Concluir tarefa => \"))\n",
        "\n",
        "            # verifica qual opção o usuário escolheu\n",
        "            if opcao == NOVA_TAREFA:\n",
        "                msg.mostrar_opcao_nova_tarefa()\n",
        "            elif opcao == CONCLUIR_TAREFA:\n",
        "                msg.mostrar_opcao_concluir_tarefa()\n",
        "            else:\n",
        "                print (\"Opção não reconhecida, por favor informar um número\")    \n",
        "        except ValueError as e :\n",
        "            print (\"Opção não reconhecida, por favor informar um número\")\n",
        "        except Exception:\n",
        "            exit(0)\n",
        "\n",
        "if __name__ == \"__main__\":\n",
        "    db.criar_tabela_todo()\n",
        "\n",
        "    main()\n"
      ]
    }
  ]
}