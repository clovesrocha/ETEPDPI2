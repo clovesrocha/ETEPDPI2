{
  "nbformat": 4,
  "nbformat_minor": 0,
  "metadata": {
    "colab": {
      "name": "mensagens.ipynb",
      "provenance": [],
      "authorship_tag": "ABX9TyNZOMJQbOXpUElMmaVHKdyR",
      "include_colab_link": true
    },
    "kernelspec": {
      "name": "python3",
      "display_name": "Python 3"
    },
    "language_info": {
      "name": "python"
    }
  },
  "cells": [
    {
      "cell_type": "markdown",
      "metadata": {
        "id": "view-in-github",
        "colab_type": "text"
      },
      "source": [
        "<a href=\"https://colab.research.google.com/github/clovesrocha/ETEPDPI2/blob/main/mensagens.ipynb\" target=\"_parent\"><img src=\"https://colab.research.google.com/assets/colab-badge.svg\" alt=\"Open In Colab\"/></a>"
      ]
    },
    {
      "cell_type": "code",
      "execution_count": null,
      "metadata": {
        "id": "R9VXAwG8W-6D"
      },
      "outputs": [],
      "source": [
        "# ETE PD\n",
        "# Prof. Cloves\n",
        "# Exemplo aula CRUD\n",
        "\n",
        "# arquivo mensagens.py\n",
        "\n",
        "import db\n",
        "\n",
        "MENU_INICIAL = 99\n",
        "\n",
        "def exibir_cabecalho():\n",
        "    \"\"\" imprimi o cabeçalho no terminal utilizando o tamanho maximo de 60 caracteres \"\"\"\n",
        "    QTD_COLUNAS = 60\n",
        "    print (\"-\" * QTD_COLUNAS)\n",
        "    print (\"{:^60}\".format(\"TAREFAS\"))\n",
        "    print (\"-\" * QTD_COLUNAS)\n",
        "    print (\"{:^60}\".format(\"tecle 99 volta para o menu inicial, [CTRL+C] sai\"))\n",
        "    print (\"-\" * QTD_COLUNAS)\n",
        "\n",
        "def exibir_tarefas():    \n",
        "    \"\"\" exibe a lista de tarefas cadastradas, com algumas formatações básicas \"\"\"\n",
        "    for tarefa in db.get_tarefas():\n",
        "        # check = \\u2713 é o caracter unicode que representa o concluido\n",
        "        check = u'\\u2713' if tarefa[2] == 1 else \"\"\n",
        "        \"\"\"\n",
        "            os parametros passados para esse format() são o seguinte\n",
        "            {:>4}  = 4 posições, alinhado a direita\n",
        "            {:<47} = 47 posições, alinhado a esquerda\n",
        "            {:^3}  = 3 posições, centralizado\n",
        "        \"\"\"\n",
        "        t = \"- [{:>4}] {:<47} {:^3}\".format(tarefa[0], tarefa[1], check)\n",
        "        print (t)\n",
        "    print (\"-\" * 60)\n",
        "\n",
        "def mostrar_opcao_nova_tarefa():\n",
        "    texto_nova_tarefa = input(\"Descreva a Tarefa => \")\n",
        "    print (\"adicionando tarefa -> \" + str(texto_nova_tarefa))\n",
        "    if texto_nova_tarefa != str(MENU_INICIAL):\n",
        "        db.add_tarefa(texto_nova_tarefa)    \n",
        "\n",
        "def mostrar_opcao_concluir_tarefa():\n",
        "    cd_tarefa = int(input(\"Qual tarefa quer concluir? digite o código => \"))\n",
        "    print (\"Concluindo tarefa tarefa -> \" + str(cd_tarefa))\n",
        "    if cd_tarefa != MENU_INICIAL:\n",
        "        db.concluir_tarefa(cd_tarefa)"
      ]
    }
  ]
}