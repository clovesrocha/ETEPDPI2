{
  "nbformat": 4,
  "nbformat_minor": 0,
  "metadata": {
    "colab": {
      "name": "db.ipynb",
      "provenance": [],
      "authorship_tag": "ABX9TyMZJw6eqK2qcot1IUKVccNJ",
      "include_colab_link": true
    },
    "kernelspec": {
      "name": "python3",
      "display_name": "Python 3"
    },
    "language_info": {
      "name": "python"
    }
  },
  "cells": [
    {
      "cell_type": "markdown",
      "metadata": {
        "id": "view-in-github",
        "colab_type": "text"
      },
      "source": [
        "<a href=\"https://colab.research.google.com/github/clovesrocha/ETEPDPI2/blob/main/db.ipynb\" target=\"_parent\"><img src=\"https://colab.research.google.com/assets/colab-badge.svg\" alt=\"Open In Colab\"/></a>"
      ]
    },
    {
      "cell_type": "code",
      "execution_count": 1,
      "metadata": {
        "id": "x8EzyKQ4QiSb"
      },
      "outputs": [],
      "source": [
        "# ETE PD\n",
        "# Prof. Cloves\n",
        "# Exemplo1 aula CRUD\n",
        "\n",
        "# arquivo db.py\n",
        "\n",
        "import sqlite3\n",
        "\n",
        "# conecta ao banco de dados 'todo-app'\n",
        "# caso o banco não exista ele será criado\n",
        "conn = sqlite3.connect(\"todo-app.db\")\n",
        "\n",
        "def criar_tabela_todo():\n",
        "    \"\"\" cria a tabela 'tarefa' caso ela não exista \"\"\"\n",
        "    cursor = conn.cursor()\n",
        "    conn.execute(\"\"\"\n",
        "    create table if not exists tarefa (\n",
        "        cd_tarefa integer primary key autoincrement,\n",
        "        tarefa text,\n",
        "        concluido integer\n",
        "    )\n",
        "    \"\"\")\n",
        "\n",
        "def add_tarefa(tarefa):\n",
        "    \"\"\" adiciona uma nova tarefa \"\"\"\n",
        "    conn.execute(\"insert into tarefa (tarefa, concluido) values (?, 0)\", (tarefa, ))\n",
        "    conn.commit()\n",
        "\n",
        "def remover_tarefa(cd_tarefa):\n",
        "    \"\"\" remove a tarefa da tabela \"\"\"\n",
        "    conn.execute(\"delete from tarefa where cd_tarefa = ?\", (cd_tarefa, ))\n",
        "    conn.commit()\n",
        "\n",
        "def concluir_tarefa(cd_tarefa):\n",
        "    \"\"\" marca a tarefa como concluida \"\"\"\n",
        "    conn.execute(\"update tarefa set concluido = 1 where cd_tarefa = ?\", (cd_tarefa, ))\n",
        "    conn.commit()\n",
        "\n",
        "def get_tarefas(): # retorna um cursor\n",
        "    \"\"\" retorna a lista de tarefas cadastras \"\"\"\n",
        "    return conn.execute(\"select cd_tarefa, tarefa, concluido from tarefa\")"
      ]
    }
  ]
}
